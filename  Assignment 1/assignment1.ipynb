{
 "cells": [
  {
   "cell_type": "code",
   "execution_count": 1,
   "id": "initial_id",
   "metadata": {
    "collapsed": true,
    "ExecuteTime": {
     "end_time": "2024-10-18T15:50:28.580777Z",
     "start_time": "2024-10-18T15:50:28.573259Z"
    }
   },
   "outputs": [],
   "source": [
    "import numpy as np\n",
    "import matplotlib.pyplot as plt\n",
    "import pandas as pd\n",
    "import seaborn as sns"
   ]
  },
  {
   "cell_type": "code",
   "outputs": [],
   "source": [
    "data = pd.read_csv('data/data.csv', names=['sex', 'length [mm]', 'diameter [mm]', 'height [mm]', 'whole_weight [g]', 'shucked_weight [g]', 'viscera_weight [g]', 'shell_weight [g]', 'rings'])"
   ],
   "metadata": {
    "collapsed": false,
    "ExecuteTime": {
     "end_time": "2024-10-18T15:50:28.630737Z",
     "start_time": "2024-10-18T15:50:28.609200Z"
    }
   },
   "id": "c1e8c292e4fe10a3",
   "execution_count": 2
  },
  {
   "cell_type": "code",
   "outputs": [
    {
     "data": {
      "text/plain": "        count      %\n                    \nMale     1528  36.58\nInfant   1342  32.13\nFemale   1307  31.29",
      "text/html": "<div>\n<style scoped>\n    .dataframe tbody tr th:only-of-type {\n        vertical-align: middle;\n    }\n\n    .dataframe tbody tr th {\n        vertical-align: top;\n    }\n\n    .dataframe thead th {\n        text-align: right;\n    }\n</style>\n<table border=\"1\" class=\"dataframe\">\n  <thead>\n    <tr style=\"text-align: right;\">\n      <th></th>\n      <th>count</th>\n      <th>%</th>\n    </tr>\n    <tr>\n      <th></th>\n      <th></th>\n      <th></th>\n    </tr>\n  </thead>\n  <tbody>\n    <tr>\n      <th>Male</th>\n      <td>1528</td>\n      <td>36.58</td>\n    </tr>\n    <tr>\n      <th>Infant</th>\n      <td>1342</td>\n      <td>32.13</td>\n    </tr>\n    <tr>\n      <th>Female</th>\n      <td>1307</td>\n      <td>31.29</td>\n    </tr>\n  </tbody>\n</table>\n</div>"
     },
     "metadata": {},
     "output_type": "display_data"
    }
   ],
   "source": [
    "m_counter = data['sex'].value_counts()['M']\n",
    "f_counter = data['sex'].value_counts()['F']\n",
    "i_counter = data['sex'].value_counts()['I']\n",
    "all_counter = m_counter + f_counter + i_counter\n",
    "m_percent = round(m_counter / all_counter * 100, 2)\n",
    "f_percent = round(f_counter / all_counter * 100, 2)\n",
    "i_percent = round(i_counter / all_counter * 100, 2)\n",
    "\n",
    "df = pd.DataFrame({\n",
    "  '': ['Male', 'Infant', 'Female'],\n",
    "  'count': [m_counter, i_counter, f_counter],\n",
    "  '%': [m_percent, i_percent, f_percent]\n",
    "})\n",
    "\n",
    "df = df.set_index('', drop='False')\n",
    "display(df)    "
   ],
   "metadata": {
    "collapsed": false,
    "ExecuteTime": {
     "end_time": "2024-10-18T15:50:28.679608Z",
     "start_time": "2024-10-18T15:50:28.643557Z"
    }
   },
   "id": "b0c65ab2cdeddafc",
   "execution_count": 3
  }
 ],
 "metadata": {
  "kernelspec": {
   "display_name": "Python 3",
   "language": "python",
   "name": "python3"
  },
  "language_info": {
   "codemirror_mode": {
    "name": "ipython",
    "version": 2
   },
   "file_extension": ".py",
   "mimetype": "text/x-python",
   "name": "python",
   "nbconvert_exporter": "python",
   "pygments_lexer": "ipython2",
   "version": "2.7.6"
  }
 },
 "nbformat": 4,
 "nbformat_minor": 5
}
