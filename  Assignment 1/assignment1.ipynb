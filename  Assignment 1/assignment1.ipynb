{
 "cells": [
  {
   "cell_type": "code",
   "execution_count": 1,
   "id": "initial_id",
   "metadata": {
    "collapsed": true,
    "ExecuteTime": {
     "end_time": "2024-10-18T16:42:49.494428Z",
     "start_time": "2024-10-18T16:42:49.486370Z"
    }
   },
   "outputs": [],
   "source": [
    "import numpy as np\n",
    "import matplotlib.pyplot as plt\n",
    "import pandas as pd\n",
    "import seaborn as sns"
   ]
  },
  {
   "cell_type": "code",
   "outputs": [],
   "source": [
    "data = pd.read_csv('data/data.csv', names=['sex', 'length [mm]', 'diameter [mm]', 'height [mm]', 'whole_weight [g]', 'shucked_weight [g]', 'viscera_weight [g]', 'shell_weight [g]', 'rings'])"
   ],
   "metadata": {
    "collapsed": false,
    "ExecuteTime": {
     "end_time": "2024-10-18T16:42:49.523401Z",
     "start_time": "2024-10-18T16:42:49.498572Z"
    }
   },
   "id": "c1e8c292e4fe10a3",
   "execution_count": 2
  },
  {
   "cell_type": "code",
   "outputs": [
    {
     "data": {
      "text/plain": "        count      %\n                    \nMale     1528  36.58\nInfant   1342  32.13\nFemale   1307  31.29",
      "text/html": "<div>\n<style scoped>\n    .dataframe tbody tr th:only-of-type {\n        vertical-align: middle;\n    }\n\n    .dataframe tbody tr th {\n        vertical-align: top;\n    }\n\n    .dataframe thead th {\n        text-align: right;\n    }\n</style>\n<table border=\"1\" class=\"dataframe\">\n  <thead>\n    <tr style=\"text-align: right;\">\n      <th></th>\n      <th>count</th>\n      <th>%</th>\n    </tr>\n    <tr>\n      <th></th>\n      <th></th>\n      <th></th>\n    </tr>\n  </thead>\n  <tbody>\n    <tr>\n      <th>Male</th>\n      <td>1528</td>\n      <td>36.58</td>\n    </tr>\n    <tr>\n      <th>Infant</th>\n      <td>1342</td>\n      <td>32.13</td>\n    </tr>\n    <tr>\n      <th>Female</th>\n      <td>1307</td>\n      <td>31.29</td>\n    </tr>\n  </tbody>\n</table>\n</div>"
     },
     "metadata": {},
     "output_type": "display_data"
    }
   ],
   "source": [
    "m_counter = data['sex'].value_counts()['M']\n",
    "i_counter = data['sex'].value_counts()['I']\n",
    "f_counter = data['sex'].value_counts()['F']\n",
    "all_counter = m_counter + f_counter + i_counter\n",
    "m_percent = round(m_counter / all_counter * 100, 2)\n",
    "i_percent = round(i_counter / all_counter * 100, 2)\n",
    "f_percent = round(f_counter / all_counter * 100, 2)\n",
    "\n",
    "df_qualitative = pd.DataFrame({\n",
    "  '': ['Male', 'Infant', 'Female'],\n",
    "  'count': [m_counter, i_counter, f_counter],\n",
    "  '%': [m_percent, i_percent, f_percent]\n",
    "})\n",
    "\n",
    "df_qualitative = df_qualitative.set_index('', drop='False')\n",
    "display(df_qualitative)    "
   ],
   "metadata": {
    "collapsed": false,
    "ExecuteTime": {
     "end_time": "2024-10-18T16:42:49.554957Z",
     "start_time": "2024-10-18T16:42:49.526155Z"
    }
   },
   "id": "170df831a5de0225",
   "execution_count": 3
  },
  {
   "cell_type": "code",
   "outputs": [
    {
     "data": {
      "text/plain": "                    mean       std     min     25%     50%     75%      max\n                                                                           \nLength          0.523992  0.120093  0.0750  0.4500  0.5450   0.615   0.8150\nDiameter        0.407881  0.099240  0.0550  0.3500  0.4250   0.480   0.6500\nHeight          0.139516  0.041827  0.0000  0.1150  0.1400   0.165   1.1300\nWhole weight    0.828742  0.490389  0.0020  0.4415  0.7995   1.153   2.8255\nShucked weight  0.359367  0.221963  0.0010  0.1860  0.3360   0.502   1.4880\nViscera weight  0.180594  0.109614  0.0005  0.0935  0.1710   0.253   0.7600\nShell weight    0.238831  0.139203  0.0015  0.1300  0.2340   0.329   1.0050\nRings           9.933684  3.224169  1.0000  8.0000  9.0000  11.000  29.0000",
      "text/html": "<div>\n<style scoped>\n    .dataframe tbody tr th:only-of-type {\n        vertical-align: middle;\n    }\n\n    .dataframe tbody tr th {\n        vertical-align: top;\n    }\n\n    .dataframe thead th {\n        text-align: right;\n    }\n</style>\n<table border=\"1\" class=\"dataframe\">\n  <thead>\n    <tr style=\"text-align: right;\">\n      <th></th>\n      <th>mean</th>\n      <th>std</th>\n      <th>min</th>\n      <th>25%</th>\n      <th>50%</th>\n      <th>75%</th>\n      <th>max</th>\n    </tr>\n    <tr>\n      <th></th>\n      <th></th>\n      <th></th>\n      <th></th>\n      <th></th>\n      <th></th>\n      <th></th>\n      <th></th>\n    </tr>\n  </thead>\n  <tbody>\n    <tr>\n      <th>Length</th>\n      <td>0.523992</td>\n      <td>0.120093</td>\n      <td>0.0750</td>\n      <td>0.4500</td>\n      <td>0.5450</td>\n      <td>0.615</td>\n      <td>0.8150</td>\n    </tr>\n    <tr>\n      <th>Diameter</th>\n      <td>0.407881</td>\n      <td>0.099240</td>\n      <td>0.0550</td>\n      <td>0.3500</td>\n      <td>0.4250</td>\n      <td>0.480</td>\n      <td>0.6500</td>\n    </tr>\n    <tr>\n      <th>Height</th>\n      <td>0.139516</td>\n      <td>0.041827</td>\n      <td>0.0000</td>\n      <td>0.1150</td>\n      <td>0.1400</td>\n      <td>0.165</td>\n      <td>1.1300</td>\n    </tr>\n    <tr>\n      <th>Whole weight</th>\n      <td>0.828742</td>\n      <td>0.490389</td>\n      <td>0.0020</td>\n      <td>0.4415</td>\n      <td>0.7995</td>\n      <td>1.153</td>\n      <td>2.8255</td>\n    </tr>\n    <tr>\n      <th>Shucked weight</th>\n      <td>0.359367</td>\n      <td>0.221963</td>\n      <td>0.0010</td>\n      <td>0.1860</td>\n      <td>0.3360</td>\n      <td>0.502</td>\n      <td>1.4880</td>\n    </tr>\n    <tr>\n      <th>Viscera weight</th>\n      <td>0.180594</td>\n      <td>0.109614</td>\n      <td>0.0005</td>\n      <td>0.0935</td>\n      <td>0.1710</td>\n      <td>0.253</td>\n      <td>0.7600</td>\n    </tr>\n    <tr>\n      <th>Shell weight</th>\n      <td>0.238831</td>\n      <td>0.139203</td>\n      <td>0.0015</td>\n      <td>0.1300</td>\n      <td>0.2340</td>\n      <td>0.329</td>\n      <td>1.0050</td>\n    </tr>\n    <tr>\n      <th>Rings</th>\n      <td>9.933684</td>\n      <td>3.224169</td>\n      <td>1.0000</td>\n      <td>8.0000</td>\n      <td>9.0000</td>\n      <td>11.000</td>\n      <td>29.0000</td>\n    </tr>\n  </tbody>\n</table>\n</div>"
     },
     "metadata": {},
     "output_type": "display_data"
    }
   ],
   "source": [
    "quantitative_data = {\n",
    "    '': ['Length', 'Diameter', 'Height', 'Whole weight', 'Shucked weight', 'Viscera weight', 'Shell weight', 'Rings'],\n",
    "    'mean': [],\n",
    "    'std': [],\n",
    "    'min': [],\n",
    "    '25%': [],\n",
    "    '50%': [],\n",
    "    '75%': [],\n",
    "    'max': []\n",
    "}\n",
    "\n",
    "for column in data.columns[1:]:\n",
    "    quantitative_data['mean'].append(data[column].mean())\n",
    "    quantitative_data['std'].append(data[column].std())\n",
    "    quantitative_data['min'].append(data[column].min())\n",
    "    quantitative_data['25%'].append(data[column].quantile(0.25))\n",
    "    quantitative_data['50%'].append(data[column].quantile(0.50))\n",
    "    quantitative_data['75%'].append(data[column].quantile(0.75))\n",
    "    quantitative_data['max'].append(data[column].max())\n",
    "\n",
    "df_quantitative = pd.DataFrame(quantitative_data)\n",
    "\n",
    "df_quantitative = df_quantitative.set_index('', drop='False')\n",
    "display(df_quantitative)"
   ],
   "metadata": {
    "collapsed": false,
    "ExecuteTime": {
     "end_time": "2024-10-18T16:42:49.607992Z",
     "start_time": "2024-10-18T16:42:49.558327Z"
    }
   },
   "id": "b4eadd9ede2759d1",
   "execution_count": 4
  },
  {
   "cell_type": "code",
   "outputs": [],
   "source": [],
   "metadata": {
    "collapsed": false,
    "ExecuteTime": {
     "end_time": "2024-10-18T16:42:49.615095Z",
     "start_time": "2024-10-18T16:42:49.610693Z"
    }
   },
   "id": "e3c6fb1859ee2e2e",
   "execution_count": 4
  }
 ],
 "metadata": {
  "kernelspec": {
   "display_name": "Python 3",
   "language": "python",
   "name": "python3"
  },
  "language_info": {
   "codemirror_mode": {
    "name": "ipython",
    "version": 2
   },
   "file_extension": ".py",
   "mimetype": "text/x-python",
   "name": "python",
   "nbconvert_exporter": "python",
   "pygments_lexer": "ipython2",
   "version": "2.7.6"
  }
 },
 "nbformat": 4,
 "nbformat_minor": 5
}
